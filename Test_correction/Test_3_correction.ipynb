{
 "cells": [
  {
   "cell_type": "markdown",
   "metadata": {},
   "source": [
    "# Correction of test number 3\n",
    "\n",
    "This test is about finding the weight of different fish species according to their dimensions.\n",
    "\n",
    "The different columns of the dataset are:\n",
    "- *Species* The species of the fish\n",
    "- *Weight* The weight of the fish in gram (g)\n",
    "- *Length1* The vertical length in cm\n",
    "- *Length2* The diagonal length in cm\n",
    "- *Length3* The cross length in cm\n",
    "- *Height* The height in cm\n",
    "- *Width* The diagonal width in cm"
   ]
  },
  {
   "cell_type": "code",
   "execution_count": 1,
   "metadata": {
    "scrolled": true
   },
   "outputs": [
    {
     "data": {
      "text/plain": [
       "Perch        56\n",
       "Bream        35\n",
       "Roach        20\n",
       "Pike         17\n",
       "Smelt        14\n",
       "Parkki       11\n",
       "Whitefish     6\n",
       "Name: Species, dtype: int64"
      ]
     },
     "execution_count": 1,
     "metadata": {},
     "output_type": "execute_result"
    }
   ],
   "source": [
    "import pandas as pd\n",
    "pd.set_option(\"display.max_rows\", 16)\n",
    "from sklearn.linear_model import LinearRegression\n",
    "from sklearn.model_selection import train_test_split\n",
    "import numpy as np\n",
    "import matplotlib.pyplot as plt\n",
    "\n",
    "df = pd.read_csv('Fish.csv')\n",
    "df.head()\n",
    "df['Species'].value_counts()"
   ]
  },
  {
   "cell_type": "markdown",
   "metadata": {},
   "source": [
    "## Question 1\n",
    "\n",
    "Find the three coefficients relating the weight of breams, a particular fish species, according to its Length1, Height and Width (3 factors).\n",
    "\n",
    "In this question, we don't use any training/testing split, you should use the full dataset (35 fish).\n",
    "\n",
    "Round your results with two (2) decimal places.\n",
    "\n",
    "1. Length1 coefficient\n",
    "2. Height coefficient\n",
    "3. Width coefficient\n",
    "4. Find the expected weight of a fish that has the following dimensions :\n",
    "Length1 = 25, Width = 4.5 and Height = 12.5"
   ]
  },
  {
   "cell_type": "code",
   "execution_count": 2,
   "metadata": {},
   "outputs": [
    {
     "name": "stdout",
     "output_type": "stream",
     "text": [
      "Estimated equation is: ( 12.81 ) Length1 + ( 63.13 ) Height + ( 51.63 ) Width + ( -1009.02 )\n"
     ]
    },
    {
     "data": {
      "text/plain": [
       "332.6"
      ]
     },
     "execution_count": 2,
     "metadata": {},
     "output_type": "execute_result"
    }
   ],
   "source": [
    "Bream=df.loc[df['Species']=='Bream']\n",
    "\n",
    "X_Length1=np.array(Bream['Length1']).reshape(-1,1)\n",
    "X_Height=np.array(Bream['Height']).reshape(-1,1)\n",
    "X_Width=np.array(Bream['Width']).reshape(-1,1)\n",
    "Y=np.array(Bream['Weight']).reshape(-1,1)\n",
    "X=np.concatenate((X_Length1,X_Height,X_Width),axis=1)\n",
    "\n",
    "regr = LinearRegression().fit(X, Y)\n",
    "\n",
    "# The estimated equation coefficients\n",
    "print('Estimated equation is: (',round(regr.coef_[0,0],2),') Length1 + (',round(regr.coef_[0,1],2),') Height + (',round(regr.coef_[0,2],2),') Width + (',round(regr.intercept_[0],2),')')\n",
    "\n",
    "X_Pred=np.array([25,12.5,4.5]).reshape(1,-1)\n",
    "Y_Pred=regr.predict(X_Pred)\n",
    "round(Y_Pred[0][0],2)"
   ]
  },
  {
   "cell_type": "markdown",
   "metadata": {},
   "source": [
    "## Question 2\n",
    "\n",
    "Find the Pearson correlation coefficient that links the Height of Perch, a particular fish species, to their Weight.\n",
    "\n",
    "Round your results with two (3) decimal places.\n",
    "\n",
    "1. The coefficient\n",
    "2. Is there a good relatioship between those two factors ? If yes, write 'Yes'. If no, write 'No'.\n",
    "\n",
    "Be careful this is case sensitive. Best method is to copy and paste the words between quote signs. Don't add the quote signs."
   ]
  },
  {
   "cell_type": "code",
   "execution_count": 3,
   "metadata": {
    "scrolled": true
   },
   "outputs": [
    {
     "data": {
      "text/html": [
       "<div>\n",
       "<style scoped>\n",
       "    .dataframe tbody tr th:only-of-type {\n",
       "        vertical-align: middle;\n",
       "    }\n",
       "\n",
       "    .dataframe tbody tr th {\n",
       "        vertical-align: top;\n",
       "    }\n",
       "\n",
       "    .dataframe thead th {\n",
       "        text-align: right;\n",
       "    }\n",
       "</style>\n",
       "<table border=\"1\" class=\"dataframe\">\n",
       "  <thead>\n",
       "    <tr style=\"text-align: right;\">\n",
       "      <th></th>\n",
       "      <th>Species</th>\n",
       "      <th>Weight</th>\n",
       "      <th>Length1</th>\n",
       "      <th>Length2</th>\n",
       "      <th>Length3</th>\n",
       "      <th>Height</th>\n",
       "      <th>Width</th>\n",
       "    </tr>\n",
       "  </thead>\n",
       "  <tbody>\n",
       "    <tr>\n",
       "      <th>72</th>\n",
       "      <td>Perch</td>\n",
       "      <td>5.9</td>\n",
       "      <td>7.5</td>\n",
       "      <td>8.4</td>\n",
       "      <td>8.8</td>\n",
       "      <td>2.1120</td>\n",
       "      <td>1.4080</td>\n",
       "    </tr>\n",
       "    <tr>\n",
       "      <th>73</th>\n",
       "      <td>Perch</td>\n",
       "      <td>32.0</td>\n",
       "      <td>12.5</td>\n",
       "      <td>13.7</td>\n",
       "      <td>14.7</td>\n",
       "      <td>3.5280</td>\n",
       "      <td>1.9992</td>\n",
       "    </tr>\n",
       "    <tr>\n",
       "      <th>74</th>\n",
       "      <td>Perch</td>\n",
       "      <td>40.0</td>\n",
       "      <td>13.8</td>\n",
       "      <td>15.0</td>\n",
       "      <td>16.0</td>\n",
       "      <td>3.8240</td>\n",
       "      <td>2.4320</td>\n",
       "    </tr>\n",
       "    <tr>\n",
       "      <th>75</th>\n",
       "      <td>Perch</td>\n",
       "      <td>51.5</td>\n",
       "      <td>15.0</td>\n",
       "      <td>16.2</td>\n",
       "      <td>17.2</td>\n",
       "      <td>4.5924</td>\n",
       "      <td>2.6316</td>\n",
       "    </tr>\n",
       "    <tr>\n",
       "      <th>76</th>\n",
       "      <td>Perch</td>\n",
       "      <td>70.0</td>\n",
       "      <td>15.7</td>\n",
       "      <td>17.4</td>\n",
       "      <td>18.5</td>\n",
       "      <td>4.5880</td>\n",
       "      <td>2.9415</td>\n",
       "    </tr>\n",
       "  </tbody>\n",
       "</table>\n",
       "</div>"
      ],
      "text/plain": [
       "   Species  Weight  Length1  Length2  Length3  Height   Width\n",
       "72   Perch     5.9      7.5      8.4      8.8  2.1120  1.4080\n",
       "73   Perch    32.0     12.5     13.7     14.7  3.5280  1.9992\n",
       "74   Perch    40.0     13.8     15.0     16.0  3.8240  2.4320\n",
       "75   Perch    51.5     15.0     16.2     17.2  4.5924  2.6316\n",
       "76   Perch    70.0     15.7     17.4     18.5  4.5880  2.9415"
      ]
     },
     "execution_count": 3,
     "metadata": {},
     "output_type": "execute_result"
    }
   ],
   "source": [
    "Perch=df.loc[df['Species']=='Perch']\n",
    "Perch.head()"
   ]
  },
  {
   "cell_type": "code",
   "execution_count": 4,
   "metadata": {},
   "outputs": [
    {
     "name": "stdout",
     "output_type": "stream",
     "text": [
      "0.968\n"
     ]
    }
   ],
   "source": [
    "print(round(Perch.corr()['Height']['Weight'],3))"
   ]
  },
  {
   "cell_type": "code",
   "execution_count": 5,
   "metadata": {},
   "outputs": [
    {
     "data": {
      "text/html": [
       "<div>\n",
       "<style scoped>\n",
       "    .dataframe tbody tr th:only-of-type {\n",
       "        vertical-align: middle;\n",
       "    }\n",
       "\n",
       "    .dataframe tbody tr th {\n",
       "        vertical-align: top;\n",
       "    }\n",
       "\n",
       "    .dataframe thead th {\n",
       "        text-align: right;\n",
       "    }\n",
       "</style>\n",
       "<table border=\"1\" class=\"dataframe\">\n",
       "  <thead>\n",
       "    <tr style=\"text-align: right;\">\n",
       "      <th></th>\n",
       "      <th>Weight</th>\n",
       "      <th>Length1</th>\n",
       "      <th>Length2</th>\n",
       "      <th>Length3</th>\n",
       "      <th>Height</th>\n",
       "      <th>Width</th>\n",
       "    </tr>\n",
       "  </thead>\n",
       "  <tbody>\n",
       "    <tr>\n",
       "      <th>Weight</th>\n",
       "      <td>1.000000</td>\n",
       "      <td>0.958361</td>\n",
       "      <td>0.958656</td>\n",
       "      <td>0.959506</td>\n",
       "      <td>0.968441</td>\n",
       "      <td>0.963943</td>\n",
       "    </tr>\n",
       "    <tr>\n",
       "      <th>Length1</th>\n",
       "      <td>0.958361</td>\n",
       "      <td>1.000000</td>\n",
       "      <td>0.999713</td>\n",
       "      <td>0.999427</td>\n",
       "      <td>0.985420</td>\n",
       "      <td>0.974447</td>\n",
       "    </tr>\n",
       "    <tr>\n",
       "      <th>Length2</th>\n",
       "      <td>0.958656</td>\n",
       "      <td>0.999713</td>\n",
       "      <td>1.000000</td>\n",
       "      <td>0.999779</td>\n",
       "      <td>0.985584</td>\n",
       "      <td>0.974617</td>\n",
       "    </tr>\n",
       "    <tr>\n",
       "      <th>Length3</th>\n",
       "      <td>0.959506</td>\n",
       "      <td>0.999427</td>\n",
       "      <td>0.999779</td>\n",
       "      <td>1.000000</td>\n",
       "      <td>0.985909</td>\n",
       "      <td>0.975131</td>\n",
       "    </tr>\n",
       "    <tr>\n",
       "      <th>Height</th>\n",
       "      <td>0.968441</td>\n",
       "      <td>0.985420</td>\n",
       "      <td>0.985584</td>\n",
       "      <td>0.985909</td>\n",
       "      <td>1.000000</td>\n",
       "      <td>0.982943</td>\n",
       "    </tr>\n",
       "    <tr>\n",
       "      <th>Width</th>\n",
       "      <td>0.963943</td>\n",
       "      <td>0.974447</td>\n",
       "      <td>0.974617</td>\n",
       "      <td>0.975131</td>\n",
       "      <td>0.982943</td>\n",
       "      <td>1.000000</td>\n",
       "    </tr>\n",
       "  </tbody>\n",
       "</table>\n",
       "</div>"
      ],
      "text/plain": [
       "           Weight   Length1   Length2   Length3    Height     Width\n",
       "Weight   1.000000  0.958361  0.958656  0.959506  0.968441  0.963943\n",
       "Length1  0.958361  1.000000  0.999713  0.999427  0.985420  0.974447\n",
       "Length2  0.958656  0.999713  1.000000  0.999779  0.985584  0.974617\n",
       "Length3  0.959506  0.999427  0.999779  1.000000  0.985909  0.975131\n",
       "Height   0.968441  0.985420  0.985584  0.985909  1.000000  0.982943\n",
       "Width    0.963943  0.974447  0.974617  0.975131  0.982943  1.000000"
      ]
     },
     "execution_count": 5,
     "metadata": {},
     "output_type": "execute_result"
    }
   ],
   "source": [
    "Perch.corr()"
   ]
  },
  {
   "cell_type": "markdown",
   "metadata": {},
   "source": [
    "## Question 3\n",
    "\n",
    "This question involves using the function train_test_split.\n",
    "\n",
    "For Perch fish, a particular fish species, find the coefficient of determination $R^2$ that you obtain when linking the couple (Lenght3,Height) to their Weight.\n",
    "\n",
    "Create a training and testing dataset, by having 75% of the data in the training set and 25% of it in the testing set, and by choosing the random seed of 15, using the following command:\n",
    "\n",
    "`X_train, X_test, y_train, y_test = train_test_split(X, y, test_size=0.25, random_state=15)`\n",
    "\n",
    "1. The correlation coefficient\n",
    "2. Does the regression model well fit the observed data ? If yes, write 'Yes'. If no, write 'No'."
   ]
  },
  {
   "cell_type": "code",
   "execution_count": 6,
   "metadata": {},
   "outputs": [
    {
     "data": {
      "text/plain": [
       "0.95"
      ]
     },
     "execution_count": 6,
     "metadata": {},
     "output_type": "execute_result"
    }
   ],
   "source": [
    "from sklearn.metrics import r2_score\n",
    "\n",
    "X_Length3=np.array(Perch['Length3']).reshape(-1,1)\n",
    "X_Height=np.array(Perch['Height']).reshape(-1,1)\n",
    "Y=np.array(Perch['Weight']).reshape(-1,1)\n",
    "X=np.concatenate((X_Length3,X_Height),axis=1)\n",
    "\n",
    "X_train, X_test, y_train, y_test = train_test_split(X, Y, test_size=0.25, random_state=15)\n",
    "\n",
    "regr = LinearRegression().fit(X_train, y_train)\n",
    "\n",
    "regr_Weight_pred = regr.predict(X_test)\n",
    "\n",
    "round(r2_score(y_test, regr_Weight_pred),2)"
   ]
  },
  {
   "cell_type": "markdown",
   "metadata": {},
   "source": [
    "## Bonus question\n",
    "\n",
    "Add one 'Volume' column in your data, that is: \n",
    "\n",
    "$\\textrm{Volume} = \\textrm{Length2} * \\textrm{Width} * \\textrm{Height}$\n",
    "\n",
    "That new column give you an indication of the volume of the fish.\n",
    "\n",
    "For each fish species of the initial dataset, compute the relationship between the Volume and the Weight.\n",
    "\n",
    "What fish is the most dense ? (Has the biggest coefficient between Volume and Weight)"
   ]
  },
  {
   "cell_type": "code",
   "execution_count": 7,
   "metadata": {},
   "outputs": [
    {
     "data": {
      "text/plain": [
       "['Bream', 'Roach', 'Whitefish', 'Parkki', 'Perch', 'Pike', 'Smelt']"
      ]
     },
     "execution_count": 7,
     "metadata": {},
     "output_type": "execute_result"
    }
   ],
   "source": [
    "df['Volume']=df['Length2']*df['Width']*df['Height']\n",
    "Species_name=df.Species.unique().tolist()\n",
    "Species_name"
   ]
  },
  {
   "cell_type": "code",
   "execution_count": 8,
   "metadata": {},
   "outputs": [
    {
     "name": "stdout",
     "output_type": "stream",
     "text": [
      "Estimated equation for Bream is: Weight = ( 0.19 ) Volume + ( 76.99 )\n",
      "Estimated equation for Roach is: Weight = ( 0.25 ) Volume + ( 2.55 )\n",
      "Estimated equation for Whitefish is: Weight = ( 0.3 ) Volume + ( -32.12 )\n",
      "Estimated equation for Parkki is: Weight = ( 0.23 ) Volume + ( 5.71 )\n",
      "Estimated equation for Perch is: Weight = ( 0.26 ) Volume + ( 15.67 )\n",
      "Estimated equation for Pike is: Weight = ( 0.36 ) Volume + ( 1.21 )\n",
      "Estimated equation for Smelt is: Weight = ( 0.2 ) Volume + ( 3.74 )\n"
     ]
    },
    {
     "data": {
      "text/html": [
       "<div>\n",
       "<style scoped>\n",
       "    .dataframe tbody tr th:only-of-type {\n",
       "        vertical-align: middle;\n",
       "    }\n",
       "\n",
       "    .dataframe tbody tr th {\n",
       "        vertical-align: top;\n",
       "    }\n",
       "\n",
       "    .dataframe thead th {\n",
       "        text-align: right;\n",
       "    }\n",
       "</style>\n",
       "<table border=\"1\" class=\"dataframe\">\n",
       "  <thead>\n",
       "    <tr style=\"text-align: right;\">\n",
       "      <th></th>\n",
       "      <th>Species</th>\n",
       "      <th>Density</th>\n",
       "    </tr>\n",
       "  </thead>\n",
       "  <tbody>\n",
       "    <tr>\n",
       "      <th>5</th>\n",
       "      <td>Pike</td>\n",
       "      <td>0.36</td>\n",
       "    </tr>\n",
       "  </tbody>\n",
       "</table>\n",
       "</div>"
      ],
      "text/plain": [
       "  Species  Density\n",
       "5    Pike     0.36"
      ]
     },
     "execution_count": 8,
     "metadata": {},
     "output_type": "execute_result"
    }
   ],
   "source": [
    "data=[]\n",
    "for FishName in Species_name:\n",
    "    Fish=df.loc[df['Species']==FishName]\n",
    "\n",
    "    X_Volume=np.array(Fish['Volume']).reshape(-1,1)\n",
    "    Y=np.array(Fish['Weight']).reshape(-1,1)\n",
    "\n",
    "    regr_Fish = LinearRegression().fit(X_Volume, Y)\n",
    "\n",
    "    # The estimated equation coefficients\n",
    "    print('Estimated equation for '+FishName+' is: Weight = (',round(regr_Fish.coef_[0,0],2),') Volume + (',round(regr_Fish.intercept_[0],2),')')\n",
    "\n",
    "    data.append([FishName,round(regr_Fish.coef_[0,0],2)])\n",
    "    \n",
    "Final_df = pd.DataFrame(data, columns = ['Species', 'Density']) \n",
    "Final_df[Final_df['Density']==Final_df['Density'].max()]"
   ]
  },
  {
   "cell_type": "code",
   "execution_count": 12,
   "metadata": {},
   "outputs": [
    {
     "name": "stdout",
     "output_type": "stream",
     "text": [
      "Estimated equation for Bream is: Weight = ( 0.21 ) Volume\n",
      "Estimated equation for Roach is: Weight = ( 0.25 ) Volume\n",
      "Estimated equation for Whitefish is: Weight = ( 0.29 ) Volume\n",
      "Estimated equation for Parkki is: Weight = ( 0.24 ) Volume\n",
      "Estimated equation for Perch is: Weight = ( 0.26 ) Volume\n",
      "Estimated equation for Pike is: Weight = ( 0.36 ) Volume\n",
      "Estimated equation for Smelt is: Weight = ( 0.28 ) Volume\n"
     ]
    },
    {
     "data": {
      "text/html": [
       "<div>\n",
       "<style scoped>\n",
       "    .dataframe tbody tr th:only-of-type {\n",
       "        vertical-align: middle;\n",
       "    }\n",
       "\n",
       "    .dataframe tbody tr th {\n",
       "        vertical-align: top;\n",
       "    }\n",
       "\n",
       "    .dataframe thead th {\n",
       "        text-align: right;\n",
       "    }\n",
       "</style>\n",
       "<table border=\"1\" class=\"dataframe\">\n",
       "  <thead>\n",
       "    <tr style=\"text-align: right;\">\n",
       "      <th></th>\n",
       "      <th>Species</th>\n",
       "      <th>Density</th>\n",
       "    </tr>\n",
       "  </thead>\n",
       "  <tbody>\n",
       "    <tr>\n",
       "      <th>5</th>\n",
       "      <td>Pike</td>\n",
       "      <td>0.36</td>\n",
       "    </tr>\n",
       "  </tbody>\n",
       "</table>\n",
       "</div>"
      ],
      "text/plain": [
       "  Species  Density\n",
       "5    Pike     0.36"
      ]
     },
     "execution_count": 12,
     "metadata": {},
     "output_type": "execute_result"
    }
   ],
   "source": [
    "data=[]\n",
    "for FishName in Species_name:\n",
    "    Fish=df.loc[df['Species']==FishName]\n",
    "\n",
    "    X_Volume=np.array(Fish['Volume']).reshape(-1,1)\n",
    "    Y=np.array(Fish['Weight']).reshape(-1,1)\n",
    "\n",
    "    regr_Fish = LinearRegression(fit_intercept=False).fit(X_Volume, Y)\n",
    "\n",
    "    # The estimated equation coefficients\n",
    "    print('Estimated equation for '+FishName+' is: Weight = (',round(regr_Fish.coef_[0,0],2),') Volume')\n",
    "\n",
    "    data.append([FishName,round(regr_Fish.coef_[0,0],2)])\n",
    "    \n",
    "Final_df = pd.DataFrame(data, columns = ['Species', 'Density']) \n",
    "Final_df[Final_df['Density']==Final_df['Density'].max()]"
   ]
  },
  {
   "cell_type": "code",
   "execution_count": 10,
   "metadata": {},
   "outputs": [
    {
     "data": {
      "text/html": [
       "<div>\n",
       "<style scoped>\n",
       "    .dataframe tbody tr th:only-of-type {\n",
       "        vertical-align: middle;\n",
       "    }\n",
       "\n",
       "    .dataframe tbody tr th {\n",
       "        vertical-align: top;\n",
       "    }\n",
       "\n",
       "    .dataframe thead th {\n",
       "        text-align: right;\n",
       "    }\n",
       "</style>\n",
       "<table border=\"1\" class=\"dataframe\">\n",
       "  <thead>\n",
       "    <tr style=\"text-align: right;\">\n",
       "      <th></th>\n",
       "      <th>Weight</th>\n",
       "      <th>Length1</th>\n",
       "      <th>Length2</th>\n",
       "      <th>Length3</th>\n",
       "      <th>Height</th>\n",
       "      <th>Width</th>\n",
       "      <th>Volume</th>\n",
       "      <th>coefficient1</th>\n",
       "    </tr>\n",
       "    <tr>\n",
       "      <th>Species</th>\n",
       "      <th></th>\n",
       "      <th></th>\n",
       "      <th></th>\n",
       "      <th></th>\n",
       "      <th></th>\n",
       "      <th></th>\n",
       "      <th></th>\n",
       "      <th></th>\n",
       "    </tr>\n",
       "  </thead>\n",
       "  <tbody>\n",
       "    <tr>\n",
       "      <th>Bream</th>\n",
       "      <td>617.828571</td>\n",
       "      <td>30.305714</td>\n",
       "      <td>33.108571</td>\n",
       "      <td>38.354286</td>\n",
       "      <td>15.183211</td>\n",
       "      <td>5.427614</td>\n",
       "      <td>2848.269350</td>\n",
       "      <td>0.216914</td>\n",
       "    </tr>\n",
       "    <tr>\n",
       "      <th>Parkki</th>\n",
       "      <td>154.818182</td>\n",
       "      <td>18.727273</td>\n",
       "      <td>20.345455</td>\n",
       "      <td>22.790909</td>\n",
       "      <td>8.962427</td>\n",
       "      <td>3.220736</td>\n",
       "      <td>640.884646</td>\n",
       "      <td>0.241569</td>\n",
       "    </tr>\n",
       "    <tr>\n",
       "      <th>Perch</th>\n",
       "      <td>382.239286</td>\n",
       "      <td>25.735714</td>\n",
       "      <td>27.892857</td>\n",
       "      <td>29.571429</td>\n",
       "      <td>7.861870</td>\n",
       "      <td>4.745723</td>\n",
       "      <td>1432.076654</td>\n",
       "      <td>0.266913</td>\n",
       "    </tr>\n",
       "    <tr>\n",
       "      <th>Pike</th>\n",
       "      <td>718.705882</td>\n",
       "      <td>42.476471</td>\n",
       "      <td>45.482353</td>\n",
       "      <td>48.717647</td>\n",
       "      <td>7.713771</td>\n",
       "      <td>5.086382</td>\n",
       "      <td>2021.005503</td>\n",
       "      <td>0.355618</td>\n",
       "    </tr>\n",
       "    <tr>\n",
       "      <th>Roach</th>\n",
       "      <td>152.050000</td>\n",
       "      <td>20.645000</td>\n",
       "      <td>22.275000</td>\n",
       "      <td>24.970000</td>\n",
       "      <td>6.694795</td>\n",
       "      <td>3.657850</td>\n",
       "      <td>594.870203</td>\n",
       "      <td>0.255602</td>\n",
       "    </tr>\n",
       "    <tr>\n",
       "      <th>Smelt</th>\n",
       "      <td>11.178571</td>\n",
       "      <td>11.257143</td>\n",
       "      <td>11.921429</td>\n",
       "      <td>13.035714</td>\n",
       "      <td>2.209371</td>\n",
       "      <td>1.340093</td>\n",
       "      <td>37.691077</td>\n",
       "      <td>0.296584</td>\n",
       "    </tr>\n",
       "    <tr>\n",
       "      <th>Whitefish</th>\n",
       "      <td>531.000000</td>\n",
       "      <td>28.800000</td>\n",
       "      <td>31.316667</td>\n",
       "      <td>34.316667</td>\n",
       "      <td>10.027167</td>\n",
       "      <td>5.473050</td>\n",
       "      <td>1869.565691</td>\n",
       "      <td>0.284023</td>\n",
       "    </tr>\n",
       "  </tbody>\n",
       "</table>\n",
       "</div>"
      ],
      "text/plain": [
       "               Weight    Length1    Length2    Length3     Height     Width  \\\n",
       "Species                                                                       \n",
       "Bream      617.828571  30.305714  33.108571  38.354286  15.183211  5.427614   \n",
       "Parkki     154.818182  18.727273  20.345455  22.790909   8.962427  3.220736   \n",
       "Perch      382.239286  25.735714  27.892857  29.571429   7.861870  4.745723   \n",
       "Pike       718.705882  42.476471  45.482353  48.717647   7.713771  5.086382   \n",
       "Roach      152.050000  20.645000  22.275000  24.970000   6.694795  3.657850   \n",
       "Smelt       11.178571  11.257143  11.921429  13.035714   2.209371  1.340093   \n",
       "Whitefish  531.000000  28.800000  31.316667  34.316667  10.027167  5.473050   \n",
       "\n",
       "                Volume  coefficient1  \n",
       "Species                               \n",
       "Bream      2848.269350      0.216914  \n",
       "Parkki      640.884646      0.241569  \n",
       "Perch      1432.076654      0.266913  \n",
       "Pike       2021.005503      0.355618  \n",
       "Roach       594.870203      0.255602  \n",
       "Smelt        37.691077      0.296584  \n",
       "Whitefish  1869.565691      0.284023  "
      ]
     },
     "execution_count": 10,
     "metadata": {},
     "output_type": "execute_result"
    }
   ],
   "source": []
  },
  {
   "cell_type": "code",
   "execution_count": null,
   "metadata": {},
   "outputs": [],
   "source": []
  }
 ],
 "metadata": {
  "kernelspec": {
   "display_name": "Python 3",
   "language": "python",
   "name": "python3"
  },
  "language_info": {
   "codemirror_mode": {
    "name": "ipython",
    "version": 3
   },
   "file_extension": ".py",
   "mimetype": "text/x-python",
   "name": "python",
   "nbconvert_exporter": "python",
   "pygments_lexer": "ipython3",
   "version": "3.7.6"
  }
 },
 "nbformat": 4,
 "nbformat_minor": 4
}
