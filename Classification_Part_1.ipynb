{
 "cells": [
  {
   "cell_type": "markdown",
   "metadata": {},
   "source": [
    "# Classification\n",
    "\n",
    "## Student studying time (Binary classification)\n",
    "\n",
    "A group of 20 students spend between 0 and 6 hours studying for an exam. How does the number of hours spent studying affect the probability of the student passing the exam?\n",
    "\n",
    "The reason for using logistic regression for this problem is that the values of the dependent variable are pass and fail, represented by \"1\" and \"0\".\n",
    "If the problem was changed so that pass/fail was replaced with the grade 0–100 (cardinal numbers), then simple regression analysis could be used.\n",
    "\n",
    "The dataset:\n",
    "\n",
    "| Hours | 0.50 | 0.75 | 1.00 | 1.25 | 1.50 | 1.75 | 1.75 | 2.00 | 2.25 | 2.50 | 2.75 | 3.00 | 3.25 | 3.50 | 4.00 | 4.25 | 4.50 | 4.75 | 5.00 | 5.50 | \n",
    "| --- | --- | --- | --- | --- | --- | --- | --- | --- | --- | --- | --- | --- | --- | --- | --- | --- | --- | --- | --- | --- |\n",
    "| Pass | 0 | 0 | 0 | 0 | 0 | 0 | 1 | 0 | 1 | 0 | 1 | 0 | 1 | 0 | 1 | 1 | 1 | 1 | 1 | 1 | \n",
    "\n",
    "Hours are given in h. If the student passed it gets 1, else 0.\n",
    "\n",
    "First separate the data into a training and a test dataset."
   ]
  },
  {
   "cell_type": "code",
   "execution_count": 1,
   "metadata": {},
   "outputs": [],
   "source": [
    "import pandas as pd\n",
    "pd.set_option(\"display.max_rows\", 16)\n",
    "import numpy as np\n",
    "import matplotlib.pyplot as plt\n",
    "from sklearn.linear_model import LogisticRegression\n",
    "from sklearn.model_selection import train_test_split\n",
    "\n",
    "Hours=np.array([0.5,0.75,1.00,1.25,1.50,1.75,1.75,2.00,2.25,2.50,2.75,3.00,3.25,3.50,4.00,4.25,4.50,4.75,5.00,5.50]).reshape(-1, 1)\n",
    "Pass=np.array([0,0,0,0,0,0,1,0,1,0,1,0,1,0,1,1,1,1,1,1]).reshape(-1, )\n",
    "\n",
    "x_train, x_test, y_train, y_test = train_test_split(Hours, Pass, test_size=0.25, random_state=0)"
   ]
  },
  {
   "cell_type": "markdown",
   "metadata": {},
   "source": [
    "### LogisticRegression module from sklearn\n",
    "\n",
    "`LogisticRegression()` is a Python class that is constructed similarly to `LinearRegression()`. It has some options `LogisticRegression(penalty='l2', *, dual=False, tol=0.0001, C=1.0, fit_intercept=True, intercept_scaling=1, class_weight=None, random_state=None, solver='lbfgs', max_iter=100, multi_class='auto', verbose=0, warm_start=False, n_jobs=None, l1_ratio=None)`:\n",
    "- *penaly* and *dual*. Used to specify the way penalization is done- Leave it as is.\n",
    "- *tol* Tolerance for stopping criteria. May be changed to improve accuracy, but might cost computation time.\n",
    "- *C* Inverse of regularization strength; must be a positive float. Smaller values specify stronger regularization. Results are more regular.\n",
    "- *fit_intercept* is allowing or not the computation of $\\theta_0$, if False $\\theta_0=0$.\n",
    "- *intercept_scaling* - Leave it as is.\n",
    "- *class_weight* Allows you to provide a dict of the weights associated with classes in the form {class_label: weight}. If not given, all classes are supposed to have weight one. (Not useful for binary classification)\n",
    "- *random_state* - Leave it as is.\n",
    "- *solver* allows you to specify the use of a particular solver. In most cases, leave it as is. If needed, check the scikit-learn documentation.\n",
    "- *max_iter* specifies a maximum number of iteration, after which the algorithm stops.\n",
    "- *multi_class* - Leave it as is.\n",
    "- *verbose* Specify a number to get information about the current progress of the regression algorithm.\n",
    "- *warm_start* When set to True, reuse the solution of the previous call to fit as initialization, otherwise, just erase the previous solution. Useless for liblinear solver.\n",
    "- *n_jobs* Number of threads used when parallelizing over classes if multi_class=’ovr’”. This parameter is ignored when the solver is set to ‘liblinear’ regardless of whether ‘multi_class’ is specified or not. None means 1 and -1 means using all processors.\n",
    "- *l1_ratio* - Leave it as is."
   ]
  },
  {
   "cell_type": "code",
   "execution_count": 2,
   "metadata": {},
   "outputs": [],
   "source": [
    "logisticRegr = LogisticRegression()"
   ]
  },
  {
   "cell_type": "markdown",
   "metadata": {},
   "source": [
    "### LogisticRegression methods and attributes\n",
    "\n",
    "The LogisticRegression() class has access to the same methods/attributes as LinearRegression():\n",
    "- *.fit()* trains the model and computes the coefficient and intercept values\n",
    "- *.predict()* allows to predict a value from the model\n",
    "- *.coef_* gives you the coefficient found\n",
    "- *.intercept_* gives you the intercept value\n",
    "\n",
    "Additionnaly, you get access to the following functions:\n",
    "- *predict_proba(X)* Probability of X being in one class\n",
    "- *score(X, y)* Return the mean accuracy on the given test data and labels."
   ]
  },
  {
   "cell_type": "code",
   "execution_count": 3,
   "metadata": {},
   "outputs": [
    {
     "name": "stdout",
     "output_type": "stream",
     "text": [
      "Accuracy of the model: 60.0 %\n"
     ]
    }
   ],
   "source": [
    "logisticRegr.fit(x_train, y_train)\n",
    "\n",
    "y_pred = logisticRegr.predict(x_test)\n",
    "\n",
    "# Use score method to get accuracy of model\n",
    "score = logisticRegr.score(x_test, y_test)\n",
    "print(f'Accuracy of the model: {score*100} %')\n"
   ]
  },
  {
   "cell_type": "markdown",
   "metadata": {},
   "source": [
    "To visualize the model we have to convert the obtained coefficient into a sigmoid function:\n",
    "\n",
    "$\\Large \\sigma (X) = \\frac{1}{1+e^{- ( X* \\Theta_0 + \\beta )}}$\n",
    "\n",
    "With:\n",
    "- $\\Theta_0$ the coefficient\n",
    "- $\\beta$ the intercept\n",
    "\n",
    "There can be more than one coefficient if X is made with more than one input. For example, there can be two inputs vectors/columns/independent variables.\n",
    "In this case the function becomes:\n",
    "\n",
    "$\\Large \\sigma (X) = \\frac{1}{1+e^{- ( X_1 * \\Theta_1 +  X_2 * \\Theta_2 + \\beta )}}$\n",
    "\n",
    "With:\n",
    "- $ X_1, X_2$ the two input vectors\n",
    "- $\\Theta_1, \\Theta_2 $ the two coefficients\n",
    "- $\\beta$ the intercept"
   ]
  },
  {
   "cell_type": "code",
   "execution_count": 4,
   "metadata": {},
   "outputs": [
    {
     "data": {
      "image/png": "[encoded data removed]",
      "text/plain": [
       "<Figure size 432x288 with 1 Axes>"
      ]
     },
     "metadata": {
      "needs_background": "light"
     },
     "output_type": "display_data"
    },
    {
     "name": "stdout",
     "output_type": "stream",
     "text": [
      "Coefficient of the logistic regression: 1.12 Intercept of the logistic regression: -3.547593039025236\n"
     ]
    }
   ],
   "source": [
    "plt.scatter(np.append(x_train,x_test), np.append(y_train,y_test),  color='black', label=\"Original data\")\n",
    "\n",
    "def sigmoid(z):\n",
    "    return 1 / (1 + np.exp(-z))\n",
    "\n",
    "Sigmoid_x = np.linspace(0, 6, 100)\n",
    "loss = sigmoid(Sigmoid_x * logisticRegr.coef_ + logisticRegr.intercept_).ravel()\n",
    "plt.plot(Sigmoid_x, loss, color='red', linewidth=3, label=\"Estimated Model\")\n",
    "plt.legend()\n",
    "plt.grid()\n",
    "plt.xlabel('hours')\n",
    "plt.ylabel('Pass')\n",
    "plt.show()\n",
    "\n",
    "print('Coefficient of the logistic regression: ' + str(round(logisticRegr.coef_[0][0],2)) + ' Intercept of the logistic regression: '+ str(logisticRegr.intercept_[0]))"
   ]
  },
  {
   "cell_type": "markdown",
   "metadata": {},
   "source": [
    "### Changing input dataset\n",
    "\n",
    "Changing the input dataset moves the position of the estimated model. Try it."
   ]
  },
  {
   "cell_type": "code",
   "execution_count": 5,
   "metadata": {},
   "outputs": [
    {
     "name": "stdout",
     "output_type": "stream",
     "text": [
      "1.0\n"
     ]
    },
    {
     "data": {
      "image/png": "[encoded data removed]",
      "text/plain": [
       "<Figure size 432x288 with 1 Axes>"
      ]
     },
     "metadata": {
      "needs_background": "light"
     },
     "output_type": "display_data"
    }
   ],
   "source": [
    "Pass=np.array([0,1,1,1,1,1,1,1,1,1,1,1,1,1,1,1,1,1,1,1]).reshape(-1, )\n",
    "\n",
    "def LogisticRegStudy(X,Y):\n",
    "    x_train, x_test, y_train, y_test = train_test_split(X, Y, test_size=0.25, random_state=0)\n",
    "\n",
    "    logisticRegr = LogisticRegression()\n",
    "\n",
    "    logisticRegr.fit(x_train, y_train)\n",
    "\n",
    "    y_pred = logisticRegr.predict(x_test)\n",
    "\n",
    "    # Use score method to get accuracy of model\n",
    "    score = logisticRegr.score(x_test, y_test)\n",
    "    print(score)\n",
    "\n",
    "    plt.scatter(np.append(x_train,x_test), np.append(y_train,y_test),  color='black', label=\"Original data\")\n",
    "\n",
    "    Sigmoid_x = np.linspace(0, 6, 100)\n",
    "    loss = sigmoid(Sigmoid_x * logisticRegr.coef_ + logisticRegr.intercept_).ravel()\n",
    "    plt.plot(Sigmoid_x, loss, color='red', linewidth=3, label=\"Estimated Model\")\n",
    "    plt.legend()\n",
    "    plt.grid()\n",
    "    plt.show()\n",
    "    \n",
    "LogisticRegStudy(Hours,Pass)"
   ]
  },
  {
   "cell_type": "markdown",
   "metadata": {},
   "source": [
    "## Digits Dataset (An example of Multi-class classification from Michael Galarnyk)\n",
    "\n",
    "This exercise comes from: https://towardsdatascience.com/logistic-regression-using-python-sklearn-numpy-mnist-handwriting-recognition-matplotlib-a6b31e2b166a\n",
    "\n",
    "The digits dataset is one of datasets scikit-learn comes with that do not require the downloading of any file from some external website. The code below will load the digits dataset.\n",
    "\n",
    "In the multiclass case, the training algorithm uses the one-vs-rest (OvR) scheme (by default): the best predicted accuracy is the chosen output."
   ]
  },
  {
   "cell_type": "code",
   "execution_count": 6,
   "metadata": {},
   "outputs": [
    {
     "name": "stdout",
     "output_type": "stream",
     "text": [
      "Image Data Shape (1797, 64)\n",
      "Label Data Shape (1797,)\n"
     ]
    },
    {
     "data": {
      "image/png": "[encoded data removed]",
      "text/plain": [
       "<Figure size 1440x288 with 5 Axes>"
      ]
     },
     "metadata": {
      "needs_background": "light"
     },
     "output_type": "display_data"
    }
   ],
   "source": [
    "from sklearn.datasets import load_digits\n",
    "\n",
    "# Loads the data\n",
    "digits = load_digits()\n",
    "\n",
    "# Print to show there are 1797 images (8 by 8 images for a dimensionality of 64)\n",
    "print(\"Image Data Shape\" , digits.data.shape)\n",
    "\n",
    "# Print to show there are 1797 labels (integers from 0-9)\n",
    "print(\"Label Data Shape\", digits.target.shape)\n",
    "\n",
    "plt.figure(figsize=(20,4))\n",
    "for index, (image, label) in enumerate(zip(digits.data[0:5], digits.target[0:5])):\n",
    "    plt.subplot(1, 5, index + 1)\n",
    "    plt.imshow(np.reshape(image, (8,8)), cmap=plt.cm.gray)\n",
    "    plt.title('Training: %i\\n' % label, fontsize = 20)"
   ]
  },
  {
   "cell_type": "markdown",
   "metadata": {},
   "source": [
    "### Splitting Data into Training and Test Sets"
   ]
  },
  {
   "cell_type": "code",
   "execution_count": 7,
   "metadata": {},
   "outputs": [],
   "source": [
    "x_train, x_test, y_train, y_test = train_test_split(digits.data, digits.target, test_size=0.25, random_state=0)"
   ]
  },
  {
   "cell_type": "markdown",
   "metadata": {},
   "source": [
    "### Scikit-learn 4-Step Modeling Pattern\n",
    "\n",
    "**Step 1.** Import the model you want to use. In sklearn, all machine learning models are implemented as Python classes.\n",
    "\n",
    "**Step 2.** Make an instance of the Model.\n",
    "\n",
    "**Step 3.** Training the model on the data, storing the information learned from the data. Model is learning the relationship between x (digits) and y (labels).\n",
    "\n",
    "**Step 4.** Predict the labels of new data (new images). Uses the information the model learned during the model training process."
   ]
  },
  {
   "cell_type": "code",
   "execution_count": 18,
   "metadata": {},
   "outputs": [
    {
     "name": "stderr",
     "output_type": "stream",
     "text": [
      "C:\\Users\\Nicolas\\anaconda3\\lib\\site-packages\\sklearn\\linear_model\\_logistic.py:940: ConvergenceWarning: lbfgs failed to converge (status=1):\n",
      "STOP: TOTAL NO. of ITERATIONS REACHED LIMIT.\n",
      "\n",
      "Increase the number of iterations (max_iter) or scale the data as shown in:\n",
      "    https://scikit-learn.org/stable/modules/preprocessing.html\n",
      "Please also refer to the documentation for alternative solver options:\n",
      "    https://scikit-learn.org/stable/modules/linear_model.html#logistic-regression\n",
      "  extra_warning_msg=_LOGISTIC_SOLVER_CONVERGENCE_MSG)\n"
     ]
    },
    {
     "data": {
      "text/plain": [
       "(10, 64)"
      ]
     },
     "execution_count": 18,
     "metadata": {},
     "output_type": "execute_result"
    }
   ],
   "source": [
    "#Step 1\n",
    "from sklearn.linear_model import LogisticRegression\n",
    "\n",
    "#Step 2 \n",
    "logisticRegr2 = LogisticRegression(max_iter=100)\n",
    "\n",
    "#Step 3\n",
    "logisticRegr2.fit(x_train, y_train)"
   ]
  },
  {
   "cell_type": "markdown",
   "metadata": {},
   "source": [
    "Now that we have fit, we could have a look at all the computed coefficients, however this wouldn't be very useful as there are many many coefficient (one per pixel and per possible output)\n",
    "\n",
    "Predictions are made for each number based on pixel data using following equation:\n",
    "\n",
    "$\\Large \\sigma (X) = \\frac{1}{1+e^{- ( X_1 \\Theta_1 +  X_2 \\Theta_2 + \\,  \\cdots \\, + X_{64} \\Theta_{64} + \\beta_{Dig0} )}}$\n",
    "\n",
    "With:\n",
    "- $\\Theta_1$ ... $\\Theta_{64}$ The 64 coefficients for the first digit (0)\n",
    "- $X_1$ ... $X_{64}$ The 64 pixel values\n",
    "- $\\beta_{Dig0}$ The intercept for the first digit"
   ]
  },
  {
   "cell_type": "code",
   "execution_count": 22,
   "metadata": {},
   "outputs": [
    {
     "data": {
      "text/plain": [
       "(10, 64)"
      ]
     },
     "execution_count": 22,
     "metadata": {},
     "output_type": "execute_result"
    }
   ],
   "source": [
    "logisticRegr2.coef_.shape"
   ]
  },
  {
   "cell_type": "markdown",
   "metadata": {},
   "source": [
    "**Step 4.**\n",
    "\n",
    "Predictions are obtained using the One vs Rest method. Which means that a certain probability is computed for each number (0,1,..,9) and the one that has the highest probability gets predicted."
   ]
  },
  {
   "cell_type": "code",
   "execution_count": 19,
   "metadata": {},
   "outputs": [
    {
     "name": "stdout",
     "output_type": "stream",
     "text": [
      "[2]\n",
      "[2 8 2 6 6 7 1 9 8 5]\n"
     ]
    }
   ],
   "source": [
    "#Step 4\n",
    "\n",
    "# Returns a NumPy Array\n",
    "# Predict for One Observation (image)\n",
    "print(logisticRegr2.predict(x_test[0].reshape(1,-1)))\n",
    "\n",
    "# Predict for Multiple Observations (images) at Once\n",
    "print(logisticRegr2.predict(x_test[0:10]))\n",
    "\n",
    "# Make predictions on entire test data\n",
    "predictions = logisticRegr2.predict(x_test)"
   ]
  },
  {
   "cell_type": "markdown",
   "metadata": {},
   "source": [
    "### Measuring Model Performance\n",
    "\n",
    "While there are other ways of measuring model performance, we are going to keep this simple and use accuracy as our metric. \n",
    "To do this are going to see how the model performs on the new data (test set)\n",
    "\n",
    "accuracy is defined as: \n",
    "\n",
    "(fraction of correct predictions): correct predictions / total number of data points"
   ]
  },
  {
   "cell_type": "code",
   "execution_count": 14,
   "metadata": {},
   "outputs": [
    {
     "name": "stdout",
     "output_type": "stream",
     "text": [
      "Accuracy of the model: 95.11111111111111 %\n"
     ]
    }
   ],
   "source": [
    "# Use score method to get accuracy of model\n",
    "score = logisticRegr2.score(x_test, y_test)\n",
    "print(f'Accuracy of the model: {score*100} %')"
   ]
  },
  {
   "cell_type": "markdown",
   "metadata": {},
   "source": [
    "### Confusion Matrix\n",
    "\n",
    "A confusion matrix is a table that is often used to describe the performance of a classification model (or \"classifier\") on a set of test data for which the true values are known."
   ]
  },
  {
   "cell_type": "code",
   "execution_count": 10,
   "metadata": {},
   "outputs": [
    {
     "data": {
      "image/png": "[encoded data removed]",
      "text/plain": [
       "<Figure size 648x648 with 2 Axes>"
      ]
     },
     "metadata": {
      "needs_background": "light"
     },
     "output_type": "display_data"
    }
   ],
   "source": [
    "import numpy as np \n",
    "\n",
    "import seaborn as sns\n",
    "from sklearn import metrics\n",
    "\n",
    "cm = metrics.confusion_matrix(y_test, predictions)\n",
    "\n",
    "plt.figure(figsize=(9,9))\n",
    "sns.heatmap(cm, annot=True, fmt=\".3f\", linewidths=.5, square = True, cmap = 'Blues_r');\n",
    "plt.ylabel('Actual label');\n",
    "plt.xlabel('Predicted label');\n",
    "all_sample_title = 'Accuracy Score: {0}'.format(score)\n",
    "plt.title(all_sample_title, size = 15);\n",
    "plt.savefig('toy_Digits_ConfusionSeabornCodementor.png')\n",
    "plt.show();"
   ]
  },
  {
   "cell_type": "code",
   "execution_count": null,
   "metadata": {},
   "outputs": [],
   "source": []
  }
 ],
 "metadata": {
  "kernelspec": {
   "display_name": "Python 3",
   "language": "python",
   "name": "python3"
  },
  "language_info": {
   "codemirror_mode": {
    "name": "ipython",
    "version": 3
   },
   "file_extension": ".py",
   "mimetype": "text/x-python",
   "name": "python",
   "nbconvert_exporter": "python",
   "pygments_lexer": "ipython3",
   "version": "3.7.6"
  }
 },
 "nbformat": 4,
 "nbformat_minor": 4
}
